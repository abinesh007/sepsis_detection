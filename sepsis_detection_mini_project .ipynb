{
 "cells": [
  {
   "cell_type": "code",
   "execution_count": 1,
   "metadata": {},
   "outputs": [],
   "source": [
    "#ML code for Early detection of sepsis\n",
    "\n",
    "#importing libraries\n",
    "\n",
    "from os import listdir\n",
    "import pandas as pd\n",
    "import csv\n",
    "import glob"
   ]
  },
  {
   "cell_type": "code",
   "execution_count": 2,
   "metadata": {},
   "outputs": [],
   "source": [
    "#opening datasets\n",
    "training_a = sorted(listdir(r'C:\\Users\\abinsh\\Desktop\\Data Sets\\training_setA\\training'))\n",
    "training_b = sorted(listdir(r'C:\\Users\\abinsh\\Desktop\\Data Sets\\training_setB\\training_setB'))"
   ]
  },
  {
   "cell_type": "code",
   "execution_count": 3,
   "metadata": {},
   "outputs": [],
   "source": [
    "#combining all datasets\n",
    "\n",
    "#training dataset\n",
    "with open(\"sepsis_train.psv\", \"wb\") as fout:\n",
    "    for i, csv in enumerate(training_a):\n",
    "        if i == 0:\n",
    "            with open(r'C:\\Users\\abinsh\\Desktop\\Data Sets\\training_setA\\training/' + csv, \"rb\") as f:\n",
    "                fout.write(f.read())\n",
    "                \n",
    "# now the rest:\n",
    "        with open(r'C:\\Users\\abinsh\\Desktop\\Data Sets\\training_setA\\training/' + csv, \"rb\") as f:\n",
    "            next(f)\n",
    "            fout.write(f.read())\n",
    "    for i,csv in enumerate(training_b):\n",
    "        if i <15000:\n",
    "            with open(r'C:\\Users\\abinsh\\Desktop\\Data Sets\\training_setB\\training_setB/' + csv, \"rb\") as f:\n",
    "                next(f)\n",
    "                fout.write(f.read())\n",
    "train_data = pd.read_csv('sepsis_train.psv', sep ='|')\n",
    "\n",
    "\n",
    "#test dataset\n",
    "with open(\"sepsis_test.psv\", \"wb\") as fout:\n",
    "    for i, csv in enumerate(training_b):\n",
    "        if i >= 15000:\n",
    "            if i == 15000:\n",
    "                with open(r'C:\\Users\\abinsh\\Desktop\\Data Sets\\training_setB\\training_setB/' + csv, \"rb\") as f:\n",
    "                    fout.write(f.read())\n",
    "            with open(r'C:\\Users\\abinsh\\Desktop\\Data Sets\\training_setB\\training_setB/' + csv, \"rb\") as f:\n",
    "                next(f)\n",
    "                fout.write(f.read())\n",
    "test_data = pd.read_csv('sepsis_test.psv', sep='|')"
   ]
  },
  {
   "cell_type": "code",
   "execution_count": 4,
   "metadata": {},
   "outputs": [
    {
     "name": "stdout",
     "output_type": "stream",
     "text": [
      "            HR  O2Sat  Temp    SBP    MAP   DBP  Resp  EtCO2  BaseExcess  \\\n",
      "0          NaN    NaN   NaN    NaN    NaN   NaN   NaN    NaN         NaN   \n",
      "1         97.0   95.0   NaN   98.0  75.33   NaN  19.0    NaN         NaN   \n",
      "2         89.0   99.0   NaN  122.0  86.00   NaN  22.0    NaN         NaN   \n",
      "3         90.0   95.0   NaN    NaN    NaN   NaN  30.0    NaN        24.0   \n",
      "4        103.0   88.5   NaN  122.0  91.33   NaN  24.5    NaN         NaN   \n",
      "...        ...    ...   ...    ...    ...   ...   ...    ...         ...   \n",
      "1361667   68.0  100.0   NaN  130.0  77.00  65.0  17.0    NaN         NaN   \n",
      "1361668   72.0  100.0  37.0  100.0  63.00  49.0  18.5    NaN         NaN   \n",
      "1361669   65.0   97.0   NaN  109.0  69.00  54.0  16.0    NaN         NaN   \n",
      "1361670   60.0   98.0   NaN   92.0  55.00  41.0  18.0    NaN         NaN   \n",
      "1361671   67.0   98.0   NaN  119.0  82.00  68.0  20.0    NaN         NaN   \n",
      "\n",
      "         HCO3  ...  WBC  Fibrinogen  Platelets    Age  Gender  Unit1  Unit2  \\\n",
      "0         NaN  ...  NaN         NaN        NaN  83.14       0    NaN    NaN   \n",
      "1         NaN  ...  NaN         NaN        NaN  83.14       0    NaN    NaN   \n",
      "2         NaN  ...  NaN         NaN        NaN  83.14       0    NaN    NaN   \n",
      "3         NaN  ...  NaN         NaN        NaN  83.14       0    NaN    NaN   \n",
      "4         NaN  ...  NaN         NaN        NaN  83.14       0    NaN    NaN   \n",
      "...       ...  ...  ...         ...        ...    ...     ...    ...    ...   \n",
      "1361667   NaN  ...  NaN         NaN        NaN  78.00       0    1.0    0.0   \n",
      "1361668   NaN  ...  NaN         NaN        NaN  78.00       0    1.0    0.0   \n",
      "1361669   NaN  ...  NaN         NaN        NaN  78.00       0    1.0    0.0   \n",
      "1361670   NaN  ...  NaN         NaN        NaN  78.00       0    1.0    0.0   \n",
      "1361671   NaN  ...  NaN         NaN        NaN  78.00       0    1.0    0.0   \n",
      "\n",
      "         HospAdmTime  ICULOS  SepsisLabel  \n",
      "0              -0.03       1            0  \n",
      "1              -0.03       2            0  \n",
      "2              -0.03       3            0  \n",
      "3              -0.03       4            0  \n",
      "4              -0.03       5            0  \n",
      "...              ...     ...          ...  \n",
      "1361667        -1.89      23            0  \n",
      "1361668        -1.89      24            0  \n",
      "1361669        -1.89      25            0  \n",
      "1361670        -1.89      26            0  \n",
      "1361671        -1.89      27            0  \n",
      "\n",
      "[1361672 rows x 41 columns]\n",
      "___________________________________\n",
      "          HR  O2Sat  Temp    SBP    MAP   DBP  Resp  EtCO2  BaseExcess  HCO3  \\\n",
      "0        NaN    NaN   NaN    NaN    NaN   NaN   NaN    NaN         NaN   NaN   \n",
      "1       67.0   95.0   NaN  165.5  106.0  76.0   NaN    NaN         NaN   NaN   \n",
      "2       62.0   95.0  36.0  161.0  104.0  75.0   NaN    NaN         NaN   NaN   \n",
      "3       68.0   96.0   NaN  155.5  101.5  73.5   NaN    NaN         NaN   NaN   \n",
      "4       65.0   95.0  36.1  142.0   87.0  61.0   NaN    NaN         NaN   NaN   \n",
      "...      ...    ...   ...    ...    ...   ...   ...    ...         ...   ...   \n",
      "190610  80.0   96.0   NaN  115.0   87.0  65.0  15.0    NaN         NaN   NaN   \n",
      "190611  74.0   97.0   NaN  114.0   83.0  67.0  15.0    NaN         NaN   NaN   \n",
      "190612  78.0   98.0   NaN  110.0   83.0  69.0  15.0    NaN         NaN   NaN   \n",
      "190613  82.0   99.0  36.6  124.0   91.0  71.0  16.0    NaN         NaN   NaN   \n",
      "190614  80.0   97.0   NaN  121.0   97.0  73.0  15.0    NaN         NaN   NaN   \n",
      "\n",
      "        ...  WBC  Fibrinogen  Platelets  Age  Gender  Unit1  Unit2  \\\n",
      "0       ...  NaN         NaN        NaN   74       1    NaN    NaN   \n",
      "1       ...  NaN         NaN        NaN   74       1    NaN    NaN   \n",
      "2       ...  NaN         NaN        NaN   74       1    NaN    NaN   \n",
      "3       ...  NaN         NaN        NaN   74       1    NaN    NaN   \n",
      "4       ...  NaN         NaN        NaN   74       1    NaN    NaN   \n",
      "...     ...  ...         ...        ...  ...     ...    ...    ...   \n",
      "190610  ...  NaN         NaN        NaN   62       0    NaN    NaN   \n",
      "190611  ...  NaN         NaN        NaN   62       0    NaN    NaN   \n",
      "190612  ...  NaN         NaN        NaN   62       0    NaN    NaN   \n",
      "190613  ...  NaN         NaN        NaN   62       0    NaN    NaN   \n",
      "190614  ...  NaN         NaN        NaN   62       0    NaN    NaN   \n",
      "\n",
      "        HospAdmTime  ICULOS  SepsisLabel  \n",
      "0            -43.69       1            0  \n",
      "1            -43.69       2            0  \n",
      "2            -43.69       3            0  \n",
      "3            -43.69       4            0  \n",
      "4            -43.69       5            0  \n",
      "...             ...     ...          ...  \n",
      "190610         0.00      31            0  \n",
      "190611         0.00      32            0  \n",
      "190612         0.00      33            0  \n",
      "190613         0.00      34            0  \n",
      "190614         0.00      35            0  \n",
      "\n",
      "[190615 rows x 41 columns]\n"
     ]
    }
   ],
   "source": [
    "#Data Visualization & Analysis\n",
    "\n",
    "\n",
    "#import libraries\n",
    "\n",
    "import numpy as np\n",
    "import matplotlib.pyplot as plt\n",
    "import seaborn as sns\n",
    "\n",
    "\n",
    "print(train_data)\n",
    "print('_'*35)\n",
    "print(test_data)"
   ]
  },
  {
   "cell_type": "code",
   "execution_count": 6,
   "metadata": {},
   "outputs": [
    {
     "name": "stdout",
     "output_type": "stream",
     "text": [
      "0    1336657\n",
      "1      25015\n",
      "Name: SepsisLabel, dtype: int64\n"
     ]
    },
    {
     "data": {
      "text/plain": [
       "<matplotlib.axes._subplots.AxesSubplot at 0xa06da00>"
      ]
     },
     "execution_count": 6,
     "metadata": {},
     "output_type": "execute_result"
    },
    {
     "data": {
      "image/png": "[encoded data removed]",
      "text/plain": [
       "<Figure size 432x288 with 1 Axes>"
      ]
     },
     "metadata": {
      "needs_background": "light"
     },
     "output_type": "display_data"
    }
   ],
   "source": [
    "#sepsis count of train_dataset\n",
    "\n",
    "print(train_data['SepsisLabel'].value_counts())\n",
    "\n",
    "#visualise the count\n",
    "sns.countplot(train_data['SepsisLabel'],label='count')"
   ]
  },
  {
   "cell_type": "code",
   "execution_count": 8,
   "metadata": {},
   "outputs": [
    {
     "name": "stdout",
     "output_type": "stream",
     "text": [
      "HR                  float64\n",
      "O2Sat               float64\n",
      "Temp                float64\n",
      "SBP                 float64\n",
      "MAP                 float64\n",
      "DBP                 float64\n",
      "Resp                float64\n",
      "EtCO2               float64\n",
      "BaseExcess          float64\n",
      "HCO3                float64\n",
      "FiO2                float64\n",
      "pH                  float64\n",
      "PaCO2               float64\n",
      "SaO2                float64\n",
      "AST                 float64\n",
      "BUN                 float64\n",
      "Alkalinephos        float64\n",
      "Calcium             float64\n",
      "Chloride            float64\n",
      "Creatinine          float64\n",
      "Bilirubin_direct    float64\n",
      "Glucose             float64\n",
      "Lactate             float64\n",
      "Magnesium           float64\n",
      "Phosphate           float64\n",
      "Potassium           float64\n",
      "Bilirubin_total     float64\n",
      "TroponinI           float64\n",
      "Hct                 float64\n",
      "Hgb                 float64\n",
      "PTT                 float64\n",
      "WBC                 float64\n",
      "Fibrinogen          float64\n",
      "Platelets           float64\n",
      "Age                 float64\n",
      "Gender                int64\n",
      "Unit1               float64\n",
      "Unit2               float64\n",
      "HospAdmTime         float64\n",
      "ICULOS                int64\n",
      "SepsisLabel           int64\n",
      "dtype: object\n",
      "___________________________________\n",
      "HR                  float64\n",
      "O2Sat               float64\n",
      "Temp                float64\n",
      "SBP                 float64\n",
      "MAP                 float64\n",
      "DBP                 float64\n",
      "Resp                float64\n",
      "EtCO2               float64\n",
      "BaseExcess          float64\n",
      "HCO3                float64\n",
      "FiO2                float64\n",
      "pH                  float64\n",
      "PaCO2               float64\n",
      "SaO2                float64\n",
      "AST                 float64\n",
      "BUN                 float64\n",
      "Alkalinephos        float64\n",
      "Calcium             float64\n",
      "Chloride            float64\n",
      "Creatinine          float64\n",
      "Bilirubin_direct    float64\n",
      "Glucose             float64\n",
      "Lactate             float64\n",
      "Magnesium           float64\n",
      "Phosphate           float64\n",
      "Potassium           float64\n",
      "Bilirubin_total     float64\n",
      "TroponinI           float64\n",
      "Hct                 float64\n",
      "Hgb                 float64\n",
      "PTT                 float64\n",
      "WBC                 float64\n",
      "Fibrinogen          float64\n",
      "Platelets           float64\n",
      "Age                   int64\n",
      "Gender                int64\n",
      "Unit1               float64\n",
      "Unit2               float64\n",
      "HospAdmTime         float64\n",
      "ICULOS                int64\n",
      "SepsisLabel           int64\n",
      "dtype: object\n"
     ]
    }
   ],
   "source": [
    "#look at datatypes to see which column need to be encoded\n",
    "print(train_data.dtypes)\n",
    "print(\"_\"*35)\n",
    "print(test_data.dtypes)"
   ]
  },
  {
   "cell_type": "code",
   "execution_count": 9,
   "metadata": {},
   "outputs": [
    {
     "name": "stdout",
     "output_type": "stream",
     "text": [
      "HR                   130133\n",
      "O2Sat                175676\n",
      "Temp                 902590\n",
      "SBP                  199680\n",
      "MAP                  165134\n",
      "DBP                  459960\n",
      "Resp                 198043\n",
      "EtCO2               1319201\n",
      "BaseExcess          1277998\n",
      "HCO3                1297001\n",
      "FiO2                1236770\n",
      "pH                  1258514\n",
      "PaCO2               1279813\n",
      "SaO2                1311871\n",
      "AST                 1339842\n",
      "BUN                 1265550\n",
      "Alkalinephos        1340093\n",
      "Calcium             1283397\n",
      "Chloride            1292412\n",
      "Creatinine          1277512\n",
      "Bilirubin_direct    1359132\n",
      "Glucose             1138773\n",
      "Lactate             1323998\n",
      "Magnesium           1272850\n",
      "Phosphate           1304990\n",
      "Potassium           1231945\n",
      "Bilirubin_total     1341905\n",
      "TroponinI           1350388\n",
      "Hct                 1235350\n",
      "Hgb                 1258251\n",
      "PTT                 1317887\n",
      "WBC                 1272210\n",
      "Fibrinogen          1352505\n",
      "Platelets           1279609\n",
      "Age                       0\n",
      "Gender                    0\n",
      "Unit1                555263\n",
      "Unit2                555263\n",
      "HospAdmTime               8\n",
      "ICULOS                    0\n",
      "SepsisLabel               0\n",
      "dtype: int64\n",
      "___________________________________\n",
      "HR                   23272\n",
      "O2Sat                27071\n",
      "Temp                124454\n",
      "SBP                  26598\n",
      "MAP                  28149\n",
      "DBP                  26649\n",
      "Resp                 40302\n",
      "EtCO2               175450\n",
      "BaseExcess          190137\n",
      "HCO3                190256\n",
      "FiO2                186148\n",
      "pH                  186193\n",
      "PaCO2               186167\n",
      "SaO2                186851\n",
      "AST                 187261\n",
      "BUN                 180166\n",
      "Alkalinephos        187252\n",
      "Calcium             177556\n",
      "Chloride            189407\n",
      "Creatinine          180156\n",
      "Bilirubin_direct    190165\n",
      "Glucose             147993\n",
      "Lactate             186843\n",
      "Magnesium           181483\n",
      "Phosphate           184993\n",
      "Potassium           175814\n",
      "Bilirubin_total     187240\n",
      "TroponinI           187118\n",
      "Hct                 179501\n",
      "Hgb                 179442\n",
      "PTT                 188701\n",
      "WBC                 180627\n",
      "Fibrinogen          189540\n",
      "Platelets           180466\n",
      "Age                      0\n",
      "Gender                   0\n",
      "Unit1                56774\n",
      "Unit2                56774\n",
      "HospAdmTime              0\n",
      "ICULOS                   0\n",
      "SepsisLabel              0\n",
      "dtype: int64\n"
     ]
    }
   ],
   "source": [
    "#Data Cleaning\n",
    "#missing values\n",
    "miss_train=train_data.isna().sum()\n",
    "print(miss_train)\n",
    "\n",
    "print('_'*35)\n",
    "\n",
    "miss_test=test_data.isna().sum()\n",
    "print(miss_test)"
   ]
  },
  {
   "cell_type": "code",
   "execution_count": 10,
   "metadata": {},
   "outputs": [
    {
     "name": "stdout",
     "output_type": "stream",
     "text": [
      "HR                   9.556854\n",
      "O2Sat               12.901492\n",
      "Temp                66.285420\n",
      "SBP                 14.664324\n",
      "MAP                 12.127296\n",
      "DBP                 33.779060\n",
      "Resp                14.544105\n",
      "EtCO2               96.880967\n",
      "BaseExcess          93.855055\n",
      "HCO3                95.250618\n",
      "FiO2                90.827306\n",
      "pH                  92.424167\n",
      "PaCO2               93.988347\n",
      "SaO2                96.342658\n",
      "AST                 98.396824\n",
      "BUN                 92.940884\n",
      "Alkalinephos        98.415257\n",
      "Calcium             94.251553\n",
      "Chloride            94.913606\n",
      "Creatinine          93.819363\n",
      "Bilirubin_direct    99.813465\n",
      "Glucose             83.630493\n",
      "Lactate             97.233254\n",
      "Magnesium           93.476990\n",
      "Phosphate           95.837324\n",
      "Potassium           90.472963\n",
      "Bilirubin_total     98.548329\n",
      "TroponinI           99.171313\n",
      "Hct                 90.723023\n",
      "Hgb                 92.404852\n",
      "PTT                 96.784468\n",
      "WBC                 93.429989\n",
      "Fibrinogen          99.326784\n",
      "Platelets           93.973365\n",
      "Age                  0.000000\n",
      "Gender               0.000000\n",
      "Unit1               40.778029\n",
      "Unit2               40.778029\n",
      "HospAdmTime          0.000588\n",
      "ICULOS               0.000000\n",
      "SepsisLabel          0.000000\n",
      "dtype: float64\n",
      "___________________________________\n",
      "HR                  12.208903\n",
      "O2Sat               14.201925\n",
      "Temp                65.290769\n",
      "SBP                 13.953781\n",
      "MAP                 14.767463\n",
      "DBP                 13.980537\n",
      "Resp                21.143142\n",
      "EtCO2               92.044173\n",
      "BaseExcess          99.749233\n",
      "HCO3                99.811662\n",
      "FiO2                97.656533\n",
      "pH                  97.680141\n",
      "PaCO2               97.666501\n",
      "SaO2                98.025339\n",
      "AST                 98.240432\n",
      "BUN                 94.518270\n",
      "Alkalinephos        98.235711\n",
      "Calcium             93.149018\n",
      "Chloride            99.366262\n",
      "Creatinine          94.513024\n",
      "Bilirubin_direct    99.763922\n",
      "Glucose             77.639745\n",
      "Lactate             98.021142\n",
      "Magnesium           95.209191\n",
      "Phosphate           97.050599\n",
      "Potassium           92.235134\n",
      "Bilirubin_total     98.229415\n",
      "TroponinI           98.165412\n",
      "Hct                 94.169399\n",
      "Hgb                 94.138447\n",
      "PTT                 98.995882\n",
      "WBC                 94.760119\n",
      "Fibrinogen          99.436036\n",
      "Platelets           94.675655\n",
      "Age                  0.000000\n",
      "Gender               0.000000\n",
      "Unit1               29.784644\n",
      "Unit2               29.784644\n",
      "HospAdmTime          0.000000\n",
      "ICULOS               0.000000\n",
      "SepsisLabel          0.000000\n",
      "dtype: float64\n"
     ]
    }
   ],
   "source": [
    "#missing percentage\n",
    "\n",
    "missing_percent_train=(miss_train/train_data.shape[0])*100\n",
    "print(missing_percent_train)\n",
    "\n",
    "print(\"_\"*35)\n",
    "\n",
    "missing_percent_test=(miss_test/test_data.shape[0])*100\n",
    "print(missing_percent_test)"
   ]
  },
  {
   "cell_type": "code",
   "execution_count": 11,
   "metadata": {},
   "outputs": [
    {
     "name": "stdout",
     "output_type": "stream",
     "text": [
      "['HR', 'O2Sat', 'Temp', 'SBP', 'MAP', 'DBP', 'Resp', 'FiO2', 'Glucose', 'Potassium', 'Hct', 'Age', 'Gender', 'Unit1', 'Unit2', 'HospAdmTime', 'ICULOS', 'SepsisLabel']\n"
     ]
    }
   ],
   "source": [
    "#selecting features with more info\n",
    "\n",
    "new_cols=list(missing_percent_train[missing_percent_train < 92].index)\n",
    "print(new_cols)"
   ]
  },
  {
   "cell_type": "code",
   "execution_count": 12,
   "metadata": {},
   "outputs": [
    {
     "name": "stdout",
     "output_type": "stream",
     "text": [
      "            HR  O2Sat  Temp    SBP    MAP   DBP  Resp  FiO2  Glucose  \\\n",
      "0          NaN    NaN   NaN    NaN    NaN   NaN   NaN   NaN      NaN   \n",
      "1         97.0   95.0   NaN   98.0  75.33   NaN  19.0   NaN      NaN   \n",
      "2         89.0   99.0   NaN  122.0  86.00   NaN  22.0   NaN      NaN   \n",
      "3         90.0   95.0   NaN    NaN    NaN   NaN  30.0   NaN      NaN   \n",
      "4        103.0   88.5   NaN  122.0  91.33   NaN  24.5  0.28      NaN   \n",
      "...        ...    ...   ...    ...    ...   ...   ...   ...      ...   \n",
      "1361667   68.0  100.0   NaN  130.0  77.00  65.0  17.0   NaN      NaN   \n",
      "1361668   72.0  100.0  37.0  100.0  63.00  49.0  18.5   NaN      NaN   \n",
      "1361669   65.0   97.0   NaN  109.0  69.00  54.0  16.0   NaN      NaN   \n",
      "1361670   60.0   98.0   NaN   92.0  55.00  41.0  18.0   NaN    113.0   \n",
      "1361671   67.0   98.0   NaN  119.0  82.00  68.0  20.0   NaN      NaN   \n",
      "\n",
      "         Potassium  Hct    Age  Gender  Unit1  Unit2  HospAdmTime  ICULOS  \\\n",
      "0              NaN  NaN  83.14       0    NaN    NaN        -0.03       1   \n",
      "1              NaN  NaN  83.14       0    NaN    NaN        -0.03       2   \n",
      "2              NaN  NaN  83.14       0    NaN    NaN        -0.03       3   \n",
      "3              NaN  NaN  83.14       0    NaN    NaN        -0.03       4   \n",
      "4              NaN  NaN  83.14       0    NaN    NaN        -0.03       5   \n",
      "...            ...  ...    ...     ...    ...    ...          ...     ...   \n",
      "1361667        NaN  NaN  78.00       0    1.0    0.0        -1.89      23   \n",
      "1361668        NaN  NaN  78.00       0    1.0    0.0        -1.89      24   \n",
      "1361669        NaN  NaN  78.00       0    1.0    0.0        -1.89      25   \n",
      "1361670        NaN  NaN  78.00       0    1.0    0.0        -1.89      26   \n",
      "1361671        NaN  NaN  78.00       0    1.0    0.0        -1.89      27   \n",
      "\n",
      "         SepsisLabel  \n",
      "0                  0  \n",
      "1                  0  \n",
      "2                  0  \n",
      "3                  0  \n",
      "4                  0  \n",
      "...              ...  \n",
      "1361667            0  \n",
      "1361668            0  \n",
      "1361669            0  \n",
      "1361670            0  \n",
      "1361671            0  \n",
      "\n",
      "[1361672 rows x 18 columns]\n",
      "____________________________________________________________________________________________________\n",
      "          HR  O2Sat  Temp    SBP    MAP   DBP  Resp  FiO2  Glucose  Potassium  \\\n",
      "0        NaN    NaN   NaN    NaN    NaN   NaN   NaN   NaN      NaN        NaN   \n",
      "1       67.0   95.0   NaN  165.5  106.0  76.0   NaN   NaN      NaN        NaN   \n",
      "2       62.0   95.0  36.0  161.0  104.0  75.0   NaN   NaN      NaN        NaN   \n",
      "3       68.0   96.0   NaN  155.5  101.5  73.5   NaN   NaN    110.0        NaN   \n",
      "4       65.0   95.0  36.1  142.0   87.0  61.0   NaN   NaN      NaN        NaN   \n",
      "...      ...    ...   ...    ...    ...   ...   ...   ...      ...        ...   \n",
      "190610  80.0   96.0   NaN  115.0   87.0  65.0  15.0   NaN      NaN        NaN   \n",
      "190611  74.0   97.0   NaN  114.0   83.0  67.0  15.0   NaN      NaN        NaN   \n",
      "190612  78.0   98.0   NaN  110.0   83.0  69.0  15.0   NaN      NaN        NaN   \n",
      "190613  82.0   99.0  36.6  124.0   91.0  71.0  16.0   NaN    242.0        NaN   \n",
      "190614  80.0   97.0   NaN  121.0   97.0  73.0  15.0   NaN      NaN        NaN   \n",
      "\n",
      "        Hct  Age  Gender  Unit1  Unit2  HospAdmTime  ICULOS  SepsisLabel  \n",
      "0       NaN   74       1    NaN    NaN       -43.69       1            0  \n",
      "1       NaN   74       1    NaN    NaN       -43.69       2            0  \n",
      "2       NaN   74       1    NaN    NaN       -43.69       3            0  \n",
      "3       NaN   74       1    NaN    NaN       -43.69       4            0  \n",
      "4       NaN   74       1    NaN    NaN       -43.69       5            0  \n",
      "...     ...  ...     ...    ...    ...          ...     ...          ...  \n",
      "190610  NaN   62       0    NaN    NaN         0.00      31            0  \n",
      "190611  NaN   62       0    NaN    NaN         0.00      32            0  \n",
      "190612  NaN   62       0    NaN    NaN         0.00      33            0  \n",
      "190613  NaN   62       0    NaN    NaN         0.00      34            0  \n",
      "190614  NaN   62       0    NaN    NaN         0.00      35            0  \n",
      "\n",
      "[190615 rows x 18 columns]\n"
     ]
    }
   ],
   "source": [
    "#eliminating missing features\n",
    "train=train_data[new_cols]\n",
    "print(train)\n",
    "\n",
    "print(\"_\"*100)\n",
    "\n",
    "test=test_data[new_cols]\n",
    "print(test)"
   ]
  },
  {
   "cell_type": "code",
   "execution_count": 13,
   "metadata": {},
   "outputs": [],
   "source": [
    "#Feature Engineering\n",
    "\n",
    "#new_age\n",
    "def fe_new_age(data):\n",
    "    data.loc[data['Age']>=60,'new_age']='old'\n",
    "    data.loc[data['Age']<10,'new_age']='infant'\n",
    "    data.loc[(data['Age']<=60) & (data['Age']>10),'new_age']='adult'\n",
    "    \n",
    "    return data"
   ]
  },
  {
   "cell_type": "code",
   "execution_count": 14,
   "metadata": {},
   "outputs": [],
   "source": [
    "#new_heart_rate\n",
    "def fe_new_hr(data):\n",
    "    data.loc[(data['HR']>=70) & (data['HR']<110) & (data['Age']<10),'new_hr']='normal'\n",
    "    data.loc[(data['HR']>60) & (data['HR']<100) & (data['Age']>=10),'new_hr']='normal'\n",
    "    data.loc[((data['HR']<70) | (data['HR']>=110)) & (data['Age']<10),'new_hr']='abnormal'\n",
    "    data.loc[(data['HR']>=100)  & (data['Age']>=10),'new_hr']='abnormal'\n",
    "    \n",
    "    data['new_hr'].fillna('Missing',inplace=True)\n",
    "    \n",
    "    return data"
   ]
  },
  {
   "cell_type": "code",
   "execution_count": 15,
   "metadata": {},
   "outputs": [],
   "source": [
    "#new_o2_sat\n",
    "def fe_new_o2sat(data):\n",
    "    data.loc[(data['O2Sat'] >= 95) & (data['O2Sat'] < 100), 'new_o2sat'] = 'normal'\n",
    "    data.loc[(data['O2Sat'] < 95) & (data['O2Sat'] >= 0), 'new_o2sat'] = 'abnormal'\n",
    "    data['new_o2sat'].fillna('missing', inplace=True)\n",
    "    return data\n",
    "\n",
    "#new_temp\n",
    "def fe_new_temp(data):\n",
    "    data.loc[(data['Temp'] >= 36) & (data['Temp'] < 38),'new_temp'] = 'normal'\n",
    "    data.loc[(data['Temp'] < 36) | (data['Temp'] >= 38),'new_temp'] = 'abnormal'\n",
    "    data['new_temp'].fillna('Missing', inplace=True)\n",
    "    return data"
   ]
  },
  {
   "cell_type": "code",
   "execution_count": 16,
   "metadata": {},
   "outputs": [],
   "source": [
    "#new BP\n",
    "\n",
    "def fe_new_bp(data):\n",
    "    data.loc[(data['SBP'] < 90) & (data['DBP'] < 60), 'new_bp'] = 'low'\n",
    "    data.loc[(data['SBP'].between(90,120, inclusive=True)) & (data['DBP'].between(60,80, inclusive=True)), 'new_bp'] = 'normal'\n",
    "    data.loc[(data['SBP'].between(120,140, inclusive=True)) & (data['DBP'].between(80,90, inclusive=True)),'new_bp'] = 'elevated'\n",
    "    data.loc[(data['SBP'] > 140 ) & (data['DBP'] > 90 ), 'new_bp'] = 'high'\n",
    "    data['new_bp'].fillna('Missing', inplace=True)\n",
    "    return data"
   ]
  },
  {
   "cell_type": "code",
   "execution_count": 17,
   "metadata": {},
   "outputs": [],
   "source": [
    "#new_respiratory_rate\n",
    "\n",
    "def fe_new_resp(data):\n",
    "    data.loc[(data['Resp'].between(30, 60)) & (data['Age'] < 1), 'new_resp'] = 'normal'\n",
    "    data.loc[(data['Resp'].between(24, 40)) & (data['Age'].between(1, 3)), 'new_resp'] = 'normal'\n",
    "    data.loc[(data['Resp'].between(22, 34)) & (data['Age'].between(3, 6)), 'new_resp'] = 'normal'\n",
    "    data.loc[(data['Resp'].between(18, 30)) & (data['Age'].between(6, 12)), 'new_resp'] = 'normal'\n",
    "    data.loc[(data['Resp'].between(12, 16)) & (data['Age'].between(12, 18)), 'new_resp'] = 'normal'  \n",
    "    data.loc[(data['Resp'].between(12, 20)) & (data['Age'] > 18), 'new_resp'] = 'normal'  \n",
    "    \n",
    "    data.loc[((data['Resp'] < 30) | (data['Resp'] > 60)) & (data['Age'] <1) ,'new_resp'] = 'abnormal'   \n",
    "    data.loc[((data['Resp'] < 24) | (data['Resp'] > 40)) & (data['Age'].between(1, 3)) ,'new_resp'] = 'abnormal'   \n",
    "    data.loc[((data['Resp'] < 22) | (data['Resp'] > 34)) & (data['Age'].between(3, 6)) ,'new_resp'] = 'abnormal'\n",
    "    data.loc[((data['Resp'] < 18) | (data['Resp'] > 30)) & (data['Age'].between(6, 12)) ,'new_resp'] = 'abnormal'\n",
    "    data.loc[((data['Resp'] < 12) | (data['Resp'] > 16)) & (data['Age'].between(12, 18)) ,'new_resp'] = 'abnormal'\n",
    "    data.loc[((data['Resp'] < 12) | (data['Resp'] > 20)) & (data['Age'] > 18) ,'new_resp'] = 'abnormal'\n",
    "    \n",
    "    \n",
    "    data['new_resp'].fillna('missing', inplace = True)\n",
    "                                                            \n",
    "    return data"
   ]
  },
  {
   "cell_type": "code",
   "execution_count": 18,
   "metadata": {},
   "outputs": [],
   "source": [
    "#new_mean_arterial_pressure\n",
    "def fe_new_map(data):\n",
    "    data.loc[(data['MAP'] >= 70) & (data['MAP'] < 100),'new_map'] = 'normal'\n",
    "    data.loc[(data['MAP'] < 70) | (data['MAP'] >= 100),'new_map'] = 'abnormal'\n",
    "    data['new_map'].fillna('Missing', inplace=True)\n",
    "    return data\n",
    "\n",
    "#new_fraction_of_inspi_o2\n",
    "def fe_new_fio2(data):\n",
    "    data.loc[(data['FiO2'] < 0.8 ) ,'new_fio2'] = 'normal'\n",
    "    data.loc[(data['FiO2'] >= 0.8 ),'new_fio2'] = 'abnormal'\n",
    "    data['new_fio2'].fillna('Missing', inplace=True)\n",
    "    return data"
   ]
  },
  {
   "cell_type": "code",
   "execution_count": 19,
   "metadata": {},
   "outputs": [
    {
     "name": "stderr",
     "output_type": "stream",
     "text": [
      "C:\\Users\\abinsh\\anaconda3\\anaconda feb 6\\lib\\site-packages\\pandas\\core\\indexing.py:845: SettingWithCopyWarning: \n",
      "A value is trying to be set on a copy of a slice from a DataFrame.\n",
      "Try using .loc[row_indexer,col_indexer] = value instead\n",
      "\n",
      "See the caveats in the documentation: https://pandas.pydata.org/pandas-docs/stable/user_guide/indexing.html#returning-a-view-versus-a-copy\n",
      "  self.obj[key] = _infer_fill_value(value)\n",
      "C:\\Users\\abinsh\\anaconda3\\anaconda feb 6\\lib\\site-packages\\pandas\\core\\indexing.py:966: SettingWithCopyWarning: \n",
      "A value is trying to be set on a copy of a slice from a DataFrame.\n",
      "Try using .loc[row_indexer,col_indexer] = value instead\n",
      "\n",
      "See the caveats in the documentation: https://pandas.pydata.org/pandas-docs/stable/user_guide/indexing.html#returning-a-view-versus-a-copy\n",
      "  self.obj[item] = s\n",
      "C:\\Users\\abinsh\\anaconda3\\anaconda feb 6\\lib\\site-packages\\pandas\\core\\generic.py:6245: SettingWithCopyWarning: \n",
      "A value is trying to be set on a copy of a slice from a DataFrame\n",
      "\n",
      "See the caveats in the documentation: https://pandas.pydata.org/pandas-docs/stable/user_guide/indexing.html#returning-a-view-versus-a-copy\n",
      "  self._update_inplace(new_data)\n"
     ]
    },
    {
     "name": "stdout",
     "output_type": "stream",
     "text": [
      "            HR  O2Sat  Temp    SBP    MAP   DBP  Resp  FiO2  Glucose  \\\n",
      "0          NaN    NaN   NaN    NaN    NaN   NaN   NaN   NaN      NaN   \n",
      "1         97.0   95.0   NaN   98.0  75.33   NaN  19.0   NaN      NaN   \n",
      "2         89.0   99.0   NaN  122.0  86.00   NaN  22.0   NaN      NaN   \n",
      "3         90.0   95.0   NaN    NaN    NaN   NaN  30.0   NaN      NaN   \n",
      "4        103.0   88.5   NaN  122.0  91.33   NaN  24.5  0.28      NaN   \n",
      "...        ...    ...   ...    ...    ...   ...   ...   ...      ...   \n",
      "1361667   68.0  100.0   NaN  130.0  77.00  65.0  17.0   NaN      NaN   \n",
      "1361668   72.0  100.0  37.0  100.0  63.00  49.0  18.5   NaN      NaN   \n",
      "1361669   65.0   97.0   NaN  109.0  69.00  54.0  16.0   NaN      NaN   \n",
      "1361670   60.0   98.0   NaN   92.0  55.00  41.0  18.0   NaN    113.0   \n",
      "1361671   67.0   98.0   NaN  119.0  82.00  68.0  20.0   NaN      NaN   \n",
      "\n",
      "         Potassium  ...  ICULOS  SepsisLabel  new_age    new_hr  new_fio2  \\\n",
      "0              NaN  ...       1            0      old   Missing   Missing   \n",
      "1              NaN  ...       2            0      old    normal   Missing   \n",
      "2              NaN  ...       3            0      old    normal   Missing   \n",
      "3              NaN  ...       4            0      old    normal   Missing   \n",
      "4              NaN  ...       5            0      old  abnormal    normal   \n",
      "...            ...  ...     ...          ...      ...       ...       ...   \n",
      "1361667        NaN  ...      23            0      old    normal   Missing   \n",
      "1361668        NaN  ...      24            0      old    normal   Missing   \n",
      "1361669        NaN  ...      25            0      old    normal   Missing   \n",
      "1361670        NaN  ...      26            0      old   Missing   Missing   \n",
      "1361671        NaN  ...      27            0      old    normal   Missing   \n",
      "\n",
      "          new_map  new_resp   new_bp new_temp new_o2sat  \n",
      "0         Missing   missing  Missing  Missing   missing  \n",
      "1          normal    normal  Missing  Missing    normal  \n",
      "2          normal  abnormal  Missing  Missing    normal  \n",
      "3         Missing  abnormal  Missing  Missing    normal  \n",
      "4          normal  abnormal  Missing  Missing  abnormal  \n",
      "...           ...       ...      ...      ...       ...  \n",
      "1361667    normal    normal  Missing  Missing   missing  \n",
      "1361668  abnormal    normal  Missing   normal   missing  \n",
      "1361669  abnormal    normal  Missing  Missing    normal  \n",
      "1361670  abnormal    normal  Missing  Missing    normal  \n",
      "1361671    normal    normal   normal  Missing    normal  \n",
      "\n",
      "[1361672 rows x 26 columns]\n"
     ]
    }
   ],
   "source": [
    "#new train_data\n",
    "train=fe_new_age(train)\n",
    "train=fe_new_hr(train)\n",
    "train=fe_new_fio2(train)\n",
    "train=fe_new_map(train)\n",
    "train=fe_new_resp(train)\n",
    "train=fe_new_bp(train)\n",
    "train=fe_new_temp(train)\n",
    "train=fe_new_o2sat(train)\n",
    "\n",
    "print(train)"
   ]
  },
  {
   "cell_type": "code",
   "execution_count": 20,
   "metadata": {},
   "outputs": [
    {
     "name": "stderr",
     "output_type": "stream",
     "text": [
      "C:\\Users\\abinsh\\anaconda3\\anaconda feb 6\\lib\\site-packages\\pandas\\core\\indexing.py:845: SettingWithCopyWarning: \n",
      "A value is trying to be set on a copy of a slice from a DataFrame.\n",
      "Try using .loc[row_indexer,col_indexer] = value instead\n",
      "\n",
      "See the caveats in the documentation: https://pandas.pydata.org/pandas-docs/stable/user_guide/indexing.html#returning-a-view-versus-a-copy\n",
      "  self.obj[key] = _infer_fill_value(value)\n",
      "C:\\Users\\abinsh\\anaconda3\\anaconda feb 6\\lib\\site-packages\\pandas\\core\\indexing.py:966: SettingWithCopyWarning: \n",
      "A value is trying to be set on a copy of a slice from a DataFrame.\n",
      "Try using .loc[row_indexer,col_indexer] = value instead\n",
      "\n",
      "See the caveats in the documentation: https://pandas.pydata.org/pandas-docs/stable/user_guide/indexing.html#returning-a-view-versus-a-copy\n",
      "  self.obj[item] = s\n",
      "C:\\Users\\abinsh\\anaconda3\\anaconda feb 6\\lib\\site-packages\\pandas\\core\\generic.py:6245: SettingWithCopyWarning: \n",
      "A value is trying to be set on a copy of a slice from a DataFrame\n",
      "\n",
      "See the caveats in the documentation: https://pandas.pydata.org/pandas-docs/stable/user_guide/indexing.html#returning-a-view-versus-a-copy\n",
      "  self._update_inplace(new_data)\n"
     ]
    },
    {
     "name": "stdout",
     "output_type": "stream",
     "text": [
      "          HR  O2Sat  Temp    SBP    MAP   DBP  Resp  FiO2  Glucose  Potassium  \\\n",
      "0        NaN    NaN   NaN    NaN    NaN   NaN   NaN   NaN      NaN        NaN   \n",
      "1       67.0   95.0   NaN  165.5  106.0  76.0   NaN   NaN      NaN        NaN   \n",
      "2       62.0   95.0  36.0  161.0  104.0  75.0   NaN   NaN      NaN        NaN   \n",
      "3       68.0   96.0   NaN  155.5  101.5  73.5   NaN   NaN    110.0        NaN   \n",
      "4       65.0   95.0  36.1  142.0   87.0  61.0   NaN   NaN      NaN        NaN   \n",
      "...      ...    ...   ...    ...    ...   ...   ...   ...      ...        ...   \n",
      "190610  80.0   96.0   NaN  115.0   87.0  65.0  15.0   NaN      NaN        NaN   \n",
      "190611  74.0   97.0   NaN  114.0   83.0  67.0  15.0   NaN      NaN        NaN   \n",
      "190612  78.0   98.0   NaN  110.0   83.0  69.0  15.0   NaN      NaN        NaN   \n",
      "190613  82.0   99.0  36.6  124.0   91.0  71.0  16.0   NaN    242.0        NaN   \n",
      "190614  80.0   97.0   NaN  121.0   97.0  73.0  15.0   NaN      NaN        NaN   \n",
      "\n",
      "        ...  ICULOS  SepsisLabel  new_age   new_hr  new_fio2   new_map  \\\n",
      "0       ...       1            0      old  Missing   Missing   Missing   \n",
      "1       ...       2            0      old   normal   Missing  abnormal   \n",
      "2       ...       3            0      old   normal   Missing  abnormal   \n",
      "3       ...       4            0      old   normal   Missing  abnormal   \n",
      "4       ...       5            0      old   normal   Missing    normal   \n",
      "...     ...     ...          ...      ...      ...       ...       ...   \n",
      "190610  ...      31            0      old   normal   Missing    normal   \n",
      "190611  ...      32            0      old   normal   Missing    normal   \n",
      "190612  ...      33            0      old   normal   Missing    normal   \n",
      "190613  ...      34            0      old   normal   Missing    normal   \n",
      "190614  ...      35            0      old   normal   Missing    normal   \n",
      "\n",
      "        new_resp   new_bp new_temp new_o2sat  \n",
      "0        missing  Missing  Missing   missing  \n",
      "1        missing  Missing  Missing    normal  \n",
      "2        missing  Missing   normal    normal  \n",
      "3        missing  Missing  Missing    normal  \n",
      "4        missing  Missing   normal    normal  \n",
      "...          ...      ...      ...       ...  \n",
      "190610    normal   normal  Missing    normal  \n",
      "190611    normal   normal  Missing    normal  \n",
      "190612    normal   normal  Missing    normal  \n",
      "190613    normal  Missing   normal    normal  \n",
      "190614    normal  Missing  Missing    normal  \n",
      "\n",
      "[190615 rows x 26 columns]\n"
     ]
    }
   ],
   "source": [
    "#new test_data\n",
    "test=fe_new_age(test)\n",
    "test=fe_new_hr(test)\n",
    "test=fe_new_fio2(test)\n",
    "test=fe_new_map(test)\n",
    "test=fe_new_resp(test)\n",
    "test=fe_new_bp(test)\n",
    "test=fe_new_temp(test)\n",
    "test=fe_new_o2sat(test)\n",
    "\n",
    "print(test)"
   ]
  },
  {
   "cell_type": "code",
   "execution_count": 24,
   "metadata": {},
   "outputs": [],
   "source": [
    "#feature selected\n",
    "columns_new = ['Gender', 'new_age', 'new_o2sat', 'new_temp', 'new_bp', 'new_resp', 'new_map', 'new_fio2', 'new_hr', 'HospAdmTime', 'ICULOS']\n",
    "\n",
    "target_col = ['SepsisLabel']\n",
    "\n",
    "selected_cols = columns_new + target_col"
   ]
  },
  {
   "cell_type": "code",
   "execution_count": 25,
   "metadata": {},
   "outputs": [
    {
     "name": "stdout",
     "output_type": "stream",
     "text": [
      "         Gender new_age new_o2sat new_temp   new_bp  new_resp   new_map  \\\n",
      "0             0     old   missing  Missing  Missing   missing   Missing   \n",
      "1             0     old    normal  Missing  Missing    normal    normal   \n",
      "2             0     old    normal  Missing  Missing  abnormal    normal   \n",
      "3             0     old    normal  Missing  Missing  abnormal   Missing   \n",
      "4             0     old  abnormal  Missing  Missing  abnormal    normal   \n",
      "...         ...     ...       ...      ...      ...       ...       ...   \n",
      "1361667       0     old   missing  Missing  Missing    normal    normal   \n",
      "1361668       0     old   missing   normal  Missing    normal  abnormal   \n",
      "1361669       0     old    normal  Missing  Missing    normal  abnormal   \n",
      "1361670       0     old    normal  Missing  Missing    normal  abnormal   \n",
      "1361671       0     old    normal  Missing   normal    normal    normal   \n",
      "\n",
      "        new_fio2    new_hr  HospAdmTime  ICULOS  SepsisLabel  \n",
      "0        Missing   Missing        -0.03       1            0  \n",
      "1        Missing    normal        -0.03       2            0  \n",
      "2        Missing    normal        -0.03       3            0  \n",
      "3        Missing    normal        -0.03       4            0  \n",
      "4         normal  abnormal        -0.03       5            0  \n",
      "...          ...       ...          ...     ...          ...  \n",
      "1361667  Missing    normal        -1.89      23            0  \n",
      "1361668  Missing    normal        -1.89      24            0  \n",
      "1361669  Missing    normal        -1.89      25            0  \n",
      "1361670  Missing   Missing        -1.89      26            0  \n",
      "1361671  Missing    normal        -1.89      27            0  \n",
      "\n",
      "[1361672 rows x 12 columns]\n",
      "____________________________________________________________________________________________________\n",
      "        Gender new_age new_o2sat new_temp   new_bp new_resp   new_map  \\\n",
      "0            1     old   missing  Missing  Missing  missing   Missing   \n",
      "1            1     old    normal  Missing  Missing  missing  abnormal   \n",
      "2            1     old    normal   normal  Missing  missing  abnormal   \n",
      "3            1     old    normal  Missing  Missing  missing  abnormal   \n",
      "4            1     old    normal   normal  Missing  missing    normal   \n",
      "...        ...     ...       ...      ...      ...      ...       ...   \n",
      "190610       0     old    normal  Missing   normal   normal    normal   \n",
      "190611       0     old    normal  Missing   normal   normal    normal   \n",
      "190612       0     old    normal  Missing   normal   normal    normal   \n",
      "190613       0     old    normal   normal  Missing   normal    normal   \n",
      "190614       0     old    normal  Missing  Missing   normal    normal   \n",
      "\n",
      "       new_fio2   new_hr  HospAdmTime  ICULOS  SepsisLabel  \n",
      "0       Missing  Missing       -43.69       1            0  \n",
      "1       Missing   normal       -43.69       2            0  \n",
      "2       Missing   normal       -43.69       3            0  \n",
      "3       Missing   normal       -43.69       4            0  \n",
      "4       Missing   normal       -43.69       5            0  \n",
      "...         ...      ...          ...     ...          ...  \n",
      "190610  Missing   normal         0.00      31            0  \n",
      "190611  Missing   normal         0.00      32            0  \n",
      "190612  Missing   normal         0.00      33            0  \n",
      "190613  Missing   normal         0.00      34            0  \n",
      "190614  Missing   normal         0.00      35            0  \n",
      "\n",
      "[190615 rows x 12 columns]\n"
     ]
    }
   ],
   "source": [
    "#new dataset\n",
    "_train = train[selected_cols]\n",
    "print(_train)\n",
    "\n",
    "print(\"_\"*100)\n",
    "_test = test[selected_cols]\n",
    "print(_test)"
   ]
  },
  {
   "cell_type": "code",
   "execution_count": 26,
   "metadata": {},
   "outputs": [],
   "source": [
    "#splitting x & y\n",
    "\n",
    "#train\n",
    "X_train=_train[columns_new]\n",
    "Y_train=_train[target_col]\n",
    "\n",
    "#test\n",
    "X_test=_test[columns_new]\n",
    "Y_test=_test[target_col]"
   ]
  },
  {
   "cell_type": "code",
   "execution_count": 27,
   "metadata": {},
   "outputs": [],
   "source": [
    "#Label Encoding\n",
    "\n",
    "from sklearn.preprocessing import LabelEncoder\n",
    "le=LabelEncoder()"
   ]
  },
  {
   "cell_type": "code",
   "execution_count": 28,
   "metadata": {},
   "outputs": [
    {
     "name": "stderr",
     "output_type": "stream",
     "text": [
      "<ipython-input-28-9827f4737f32>:7: SettingWithCopyWarning: \n",
      "A value is trying to be set on a copy of a slice from a DataFrame.\n",
      "Try using .loc[row_indexer,col_indexer] = value instead\n",
      "\n",
      "See the caveats in the documentation: https://pandas.pydata.org/pandas-docs/stable/user_guide/indexing.html#returning-a-view-versus-a-copy\n",
      "  X_train[col]=le.transform(X_train[col])\n",
      "<ipython-input-28-9827f4737f32>:8: SettingWithCopyWarning: \n",
      "A value is trying to be set on a copy of a slice from a DataFrame.\n",
      "Try using .loc[row_indexer,col_indexer] = value instead\n",
      "\n",
      "See the caveats in the documentation: https://pandas.pydata.org/pandas-docs/stable/user_guide/indexing.html#returning-a-view-versus-a-copy\n",
      "  X_test[col]=le.transform(X_test[col])\n"
     ]
    }
   ],
   "source": [
    "for col in X_train.columns.values:\n",
    "    # Encoding only categorical variables\n",
    "    if X_test[col].dtypes=='object':\n",
    "        # Using whole data to form an exhaustive list of levels\n",
    "        data=X_train[col].append(X_test[col])\n",
    "        le.fit(data.values)\n",
    "        X_train[col]=le.transform(X_train[col])\n",
    "        X_test[col]=le.transform(X_test[col])"
   ]
  },
  {
   "cell_type": "code",
   "execution_count": 29,
   "metadata": {},
   "outputs": [
    {
     "name": "stdout",
     "output_type": "stream",
     "text": [
      "         Gender  new_age  new_o2sat  new_temp  new_bp  new_resp  new_map  \\\n",
      "0             0        1          1         0       0         1        0   \n",
      "1             0        1          2         0       0         2        2   \n",
      "2             0        1          2         0       0         0        2   \n",
      "3             0        1          2         0       0         0        0   \n",
      "4             0        1          0         0       0         0        2   \n",
      "...         ...      ...        ...       ...     ...       ...      ...   \n",
      "1361667       0        1          1         0       0         2        2   \n",
      "1361668       0        1          1         2       0         2        1   \n",
      "1361669       0        1          2         0       0         2        1   \n",
      "1361670       0        1          2         0       0         2        1   \n",
      "1361671       0        1          2         0       4         2        2   \n",
      "\n",
      "         new_fio2  new_hr  HospAdmTime  ICULOS  \n",
      "0               0       0        -0.03       1  \n",
      "1               0       2        -0.03       2  \n",
      "2               0       2        -0.03       3  \n",
      "3               0       2        -0.03       4  \n",
      "4               2       1        -0.03       5  \n",
      "...           ...     ...          ...     ...  \n",
      "1361667         0       2        -1.89      23  \n",
      "1361668         0       2        -1.89      24  \n",
      "1361669         0       2        -1.89      25  \n",
      "1361670         0       0        -1.89      26  \n",
      "1361671         0       2        -1.89      27  \n",
      "\n",
      "[1361672 rows x 11 columns]\n",
      "____________________________________________________________________________________________________\n",
      "        Gender  new_age  new_o2sat  new_temp  new_bp  new_resp  new_map  \\\n",
      "0            1        1          1         0       0         1        0   \n",
      "1            1        1          2         0       0         1        1   \n",
      "2            1        1          2         2       0         1        1   \n",
      "3            1        1          2         0       0         1        1   \n",
      "4            1        1          2         2       0         1        2   \n",
      "...        ...      ...        ...       ...     ...       ...      ...   \n",
      "190610       0        1          2         0       4         2        2   \n",
      "190611       0        1          2         0       4         2        2   \n",
      "190612       0        1          2         0       4         2        2   \n",
      "190613       0        1          2         2       0         2        2   \n",
      "190614       0        1          2         0       0         2        2   \n",
      "\n",
      "        new_fio2  new_hr  HospAdmTime  ICULOS  \n",
      "0              0       0       -43.69       1  \n",
      "1              0       2       -43.69       2  \n",
      "2              0       2       -43.69       3  \n",
      "3              0       2       -43.69       4  \n",
      "4              0       2       -43.69       5  \n",
      "...          ...     ...          ...     ...  \n",
      "190610         0       2         0.00      31  \n",
      "190611         0       2         0.00      32  \n",
      "190612         0       2         0.00      33  \n",
      "190613         0       2         0.00      34  \n",
      "190614         0       2         0.00      35  \n",
      "\n",
      "[190615 rows x 11 columns]\n"
     ]
    }
   ],
   "source": [
    "#visualizing encoded data\n",
    "print(X_train)\n",
    "\n",
    "print(\"_\"*100)\n",
    "\n",
    "print(X_test)"
   ]
  },
  {
   "cell_type": "code",
   "execution_count": 30,
   "metadata": {},
   "outputs": [
    {
     "name": "stdout",
     "output_type": "stream",
     "text": [
      "Gender         0\n",
      "new_age        0\n",
      "new_o2sat      0\n",
      "new_temp       0\n",
      "new_bp         0\n",
      "new_resp       0\n",
      "new_map        0\n",
      "new_fio2       0\n",
      "new_hr         0\n",
      "HospAdmTime    8\n",
      "ICULOS         0\n",
      "dtype: int64\n",
      "________________________________________\n",
      "Gender         0\n",
      "new_age        0\n",
      "new_o2sat      0\n",
      "new_temp       0\n",
      "new_bp         0\n",
      "new_resp       0\n",
      "new_map        0\n",
      "new_fio2       0\n",
      "new_hr         0\n",
      "HospAdmTime    0\n",
      "ICULOS         0\n",
      "dtype: int64\n"
     ]
    }
   ],
   "source": [
    "#null values\n",
    "print(X_train.isnull().sum())\n",
    "print(\"_\"*40)\n",
    "print(X_test.isnull().sum())"
   ]
  },
  {
   "cell_type": "code",
   "execution_count": 41,
   "metadata": {},
   "outputs": [],
   "source": [
    "X_train=X_train.dropna(subset=['HospAdmTime'])"
   ]
  },
  {
   "cell_type": "code",
   "execution_count": 60,
   "metadata": {},
   "outputs": [
    {
     "name": "stderr",
     "output_type": "stream",
     "text": [
      "C:\\Users\\abinsh\\anaconda3\\anaconda feb 6\\lib\\site-packages\\sklearn\\utils\\validation.py:73: DataConversionWarning: A column-vector y was passed when a 1d array was expected. Please change the shape of y to (n_samples, ), for example using ravel().\n",
      "  return f(**kwargs)\n",
      "C:\\Users\\abinsh\\anaconda3\\anaconda feb 6\\lib\\site-packages\\sklearn\\linear_model\\_logistic.py:762: ConvergenceWarning: lbfgs failed to converge (status=1):\n",
      "STOP: TOTAL NO. of ITERATIONS REACHED LIMIT.\n",
      "\n",
      "Increase the number of iterations (max_iter) or scale the data as shown in:\n",
      "    https://scikit-learn.org/stable/modules/preprocessing.html\n",
      "Please also refer to the documentation for alternative solver options:\n",
      "    https://scikit-learn.org/stable/modules/linear_model.html#logistic-regression\n",
      "  n_iter_i = _check_optimize_result(\n"
     ]
    },
    {
     "data": {
      "text/plain": [
       "LogisticRegression(random_state=0)"
      ]
     },
     "execution_count": 60,
     "metadata": {},
     "output_type": "execute_result"
    }
   ],
   "source": [
    "#Training & Testing\n",
    "\n",
    "#logistic Regression\n",
    "from sklearn.linear_model import LogisticRegression\n",
    "log=LogisticRegression(random_state=0)\n",
    "log.fit(X_train[1:10000],Y_train[1:10000])"
   ]
  },
  {
   "cell_type": "code",
   "execution_count": 61,
   "metadata": {},
   "outputs": [
    {
     "data": {
      "text/plain": [
       "0.9828292631744616"
      ]
     },
     "execution_count": 61,
     "metadata": {},
     "output_type": "execute_result"
    }
   ],
   "source": [
    "from sklearn.metrics import accuracy_score\n",
    "accuracy_score(Y_test,log.predict(X_test))"
   ]
  },
  {
   "cell_type": "code",
   "execution_count": 62,
   "metadata": {},
   "outputs": [
    {
     "name": "stderr",
     "output_type": "stream",
     "text": [
      "<ipython-input-62-581e5cfb4966>:4: DataConversionWarning: A column-vector y was passed when a 1d array was expected. Please change the shape of y to (n_samples,), for example using ravel().\n",
      "  forest.fit(X_train[1:10000],Y_train[1:10000])\n"
     ]
    },
    {
     "data": {
      "text/plain": [
       "RandomForestClassifier(criterion='entropy', n_estimators=10, random_state=0)"
      ]
     },
     "execution_count": 62,
     "metadata": {},
     "output_type": "execute_result"
    }
   ],
   "source": [
    "#Random forest\n",
    "from sklearn.ensemble import RandomForestClassifier\n",
    "forest=RandomForestClassifier(n_estimators=10,criterion='entropy',random_state=0)\n",
    "forest.fit(X_train[1:10000],Y_train[1:10000])"
   ]
  },
  {
   "cell_type": "code",
   "execution_count": 63,
   "metadata": {},
   "outputs": [
    {
     "data": {
      "text/plain": [
       "0.9762453112294416"
      ]
     },
     "execution_count": 63,
     "metadata": {},
     "output_type": "execute_result"
    }
   ],
   "source": [
    "accuracy_score(Y_test,forest.predict(X_test))"
   ]
  },
  {
   "cell_type": "code",
   "execution_count": 81,
   "metadata": {},
   "outputs": [
    {
     "name": "stdout",
     "output_type": "stream",
     "text": [
      "[[185933   1781]\n",
      " [  2747    154]]\n",
      "\n",
      "testing accuracy: 0.9762453112294416\n",
      "\n",
      "              precision    recall  f1-score   support\n",
      "\n",
      "           0       0.99      0.99      0.99    187714\n",
      "           1       0.08      0.05      0.06      2901\n",
      "\n",
      "    accuracy                           0.98    190615\n",
      "   macro avg       0.53      0.52      0.53    190615\n",
      "weighted avg       0.97      0.98      0.97    190615\n",
      "\n",
      "\n"
     ]
    },
    {
     "data": {
      "text/plain": [
       "<matplotlib.axes._subplots.AxesSubplot at 0x2e960c10>"
      ]
     },
     "execution_count": 81,
     "metadata": {},
     "output_type": "execute_result"
    },
    {
     "data": {
      "image/png": "[encoded data removed]",
      "text/plain": [
       "<Figure size 432x288 with 2 Axes>"
      ]
     },
     "metadata": {
      "needs_background": "light"
     },
     "output_type": "display_data"
    }
   ],
   "source": [
    "#Confusion matrix\n",
    "from sklearn.metrics import confusion_matrix\n",
    "from sklearn.metrics import classification_report\n",
    "\n",
    "#random forest\n",
    "cmr=confusion_matrix(Y_test,forest.predict(X_test))\n",
    "TP=cmr[0][0]\n",
    "TN=cmr[1][1]\n",
    "FN=cmr[1][0]\n",
    "FP=cmr[0][1]\n",
    "print(cmr)\n",
    "print()\n",
    "print('testing accuracy:',(TP+TN)/(TP+TN+FN+FP))\n",
    "print()\n",
    "print(classification_report(Y_test,forest.predict(X_test)))\n",
    "print()\n",
    "sns.heatmap(cmr,annot=True,fmt=\"d\")"
   ]
  },
  {
   "cell_type": "code",
   "execution_count": 82,
   "metadata": {
    "scrolled": true
   },
   "outputs": [
    {
     "name": "stdout",
     "output_type": "stream",
     "text": [
      "[[187295    419]\n",
      " [  2854     47]]\n",
      "\n",
      "testing accuracy: 0.9828292631744616\n",
      "\n",
      "              precision    recall  f1-score   support\n",
      "\n",
      "           0       0.98      1.00      0.99    187714\n",
      "           1       0.10      0.02      0.03      2901\n",
      "\n",
      "    accuracy                           0.98    190615\n",
      "   macro avg       0.54      0.51      0.51    190615\n",
      "weighted avg       0.97      0.98      0.98    190615\n",
      "\n",
      "\n"
     ]
    },
    {
     "data": {
      "text/plain": [
       "<matplotlib.axes._subplots.AxesSubplot at 0x2e9e6400>"
      ]
     },
     "execution_count": 82,
     "metadata": {},
     "output_type": "execute_result"
    },
    {
     "data": {
      "image/png": "[encoded data removed]",
      "text/plain": [
       "<Figure size 432x288 with 2 Axes>"
      ]
     },
     "metadata": {
      "needs_background": "light"
     },
     "output_type": "display_data"
    }
   ],
   "source": [
    "#logistic regression\n",
    "cml=confusion_matrix(Y_test,log.predict(X_test))\n",
    "TP=cml[0][0]\n",
    "TN=cml[1][1]\n",
    "FN=cml[1][0]\n",
    "FP=cml[0][1]\n",
    "print(cml)\n",
    "print()\n",
    "print('testing accuracy:',(TP+TN)/(TP+TN+FN+FP))\n",
    "print()\n",
    "print(classification_report(Y_test,log.predict(X_test)))\n",
    "print()\n",
    "sns.heatmap(cml,annot=True,fmt=\"d\")"
   ]
  },
  {
   "cell_type": "code",
   "execution_count": 80,
   "metadata": {},
   "outputs": [
    {
     "data": {
      "text/plain": [
       "<matplotlib.axes._subplots.AxesSubplot at 0x2e8d4b50>"
      ]
     },
     "execution_count": 80,
     "metadata": {},
     "output_type": "execute_result"
    },
    {
     "data": {
      "image/png": "[encoded data removed]",
      "text/plain": [
       "<Figure size 432x288 with 2 Axes>"
      ]
     },
     "metadata": {
      "needs_background": "light"
     },
     "output_type": "display_data"
    }
   ],
   "source": []
  }
 ],
 "metadata": {
  "kernelspec": {
   "display_name": "Python 3",
   "language": "python",
   "name": "python3"
  },
  "language_info": {
   "codemirror_mode": {
    "name": "ipython",
    "version": 3
   },
   "file_extension": ".py",
   "mimetype": "text/x-python",
   "name": "python",
   "nbconvert_exporter": "python",
   "pygments_lexer": "ipython3",
   "version": "3.8.3"
  }
 },
 "nbformat": 4,
 "nbformat_minor": 4
}
